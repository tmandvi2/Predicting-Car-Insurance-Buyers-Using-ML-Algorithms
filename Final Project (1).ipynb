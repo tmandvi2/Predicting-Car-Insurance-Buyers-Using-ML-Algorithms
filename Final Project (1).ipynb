{
 "cells": [
  {
   "cell_type": "markdown",
   "id": "932538ff",
   "metadata": {},
   "source": [
    "**Introduction**\n",
    "\n",
    "The insurance industry, with its diverse portfolio of products, faces the challenge of engaging current policyholders in cross-selling additional insurance, such as car insurance. In this context, we are presented with a dataset from a large international insurance company, capturing attempts to cross-sell car insurance to existing medical insurance policyholders. The dataset includes both a training set (`bzan6357_insurance_3_TRAINING.csv`) and a score set (`bzan6357_insurance_3_SCORE.csv`), each providing valuable insights into customer behavior and interaction.\n",
    "\n",
    "**Background and Goal**\n",
    "\n",
    "The insurance company aims to leverage its existing customer base by enticing them to purchase car insurance, with potential incentives like multi-policy discounts. Understanding the dynamics of cross-selling is crucial for optimizing marketing strategies and enhancing customer relationships. The provided datasets document the outcomes of cross-selling attempts, indicating whether a customer purchased car insurance within 30 days post-contact.\n",
    "\n",
    "**Data Overview**\n",
    "\n",
    "The training dataset includes essential features such as customer demographics (age, gender), policy details (tenure, region), driving information (driver's license status, existing car insurance), vehicle characteristics (age, accident history), and financial aspects (premium quotes). The target variable, `buy`, signifies whether a customer made the intended purchase (1) or not (0).\n",
    "\n",
    "The score dataset mirrors the training set's structure, excluding the target variable `buy`. This dataset is intended for predictive modeling, where the trained model can be applied to forecast the likelihood of car insurance purchase for new data.\n",
    "\n",
    "**Objective**\n",
    "\n",
    "The primary objective of this report is to develop a predictive model using the training dataset, enabling the insurance company to identify potential car insurance buyers among its medical insurance policyholders. By analyzing the provided features, we aim to build a model that can generalize well to new data, as represented by the score dataset.\n",
    "\n",
    "The subsequent sections of this report will delve into exploratory data analysis, feature engineering, model selection, training, and evaluation. The predictive model's performance will be assessed based on relevant metrics, and the final model will be applied to the score dataset to make predictions on potential car insurance purchases.\n",
    "\n",
    "By achieving this objective, the insurance company can enhance its cross-selling strategy, optimize marketing efforts, and potentially increase revenue through additional policy sales."
   ]
  },
  {
   "cell_type": "markdown",
   "id": "297a1d57",
   "metadata": {},
   "source": [
    "## SECTION 1 - DATA PREPARATION SECTION"
   ]
  },
  {
   "cell_type": "code",
   "execution_count": 1,
   "id": "86c5e2bf",
   "metadata": {},
   "outputs": [],
   "source": [
    "# Import necessary libraries\n",
    "import pandas as pd\n",
    "from sklearn.model_selection import train_test_split\n",
    "\n",
    "# Load the training data\n",
    "train_data_path = \"C:/Users/shrin/OneDrive/Desktop/Sem 03/Business Frameworks/Final Project/bzan6357_insurance_3_TRAINING.csv\"\n",
    "train_data = pd.read_csv(train_data_path)\n",
    "\n",
    "# Load the sample data\n",
    "sample_data_path = \"C:/Users/shrin/OneDrive/Desktop/Sem 03/Business Frameworks/Final Project/bzan6357_insurance_3_SCORE.csv\"\n",
    "sample_data = pd.read_csv(sample_data_path)\n"
   ]
  },
  {
   "cell_type": "code",
   "execution_count": 2,
   "id": "c863add7",
   "metadata": {},
   "outputs": [
    {
     "name": "stdout",
     "output_type": "stream",
     "text": [
      "Training Data Information:\n",
      "<class 'pandas.core.frame.DataFrame'>\n",
      "RangeIndex: 20460 entries, 0 to 20459\n",
      "Data columns (total 12 columns):\n",
      " #   Column           Non-Null Count  Dtype  \n",
      "---  ------           --------------  -----  \n",
      " 0   id_new           20460 non-null  object \n",
      " 1   buy              20460 non-null  int64  \n",
      " 2   age              20460 non-null  int64  \n",
      " 3   gender           20460 non-null  object \n",
      " 4   tenure           20460 non-null  int64  \n",
      " 5   region           20460 non-null  int64  \n",
      " 6   dl               20460 non-null  int64  \n",
      " 7   has_v_insurance  20460 non-null  int64  \n",
      " 8   v_age            20460 non-null  object \n",
      " 9   v_accident       20460 non-null  object \n",
      " 10  v_prem_quote     20460 non-null  float64\n",
      " 11  cs_rep           20460 non-null  int64  \n",
      "dtypes: float64(1), int64(7), object(4)\n",
      "memory usage: 1.9+ MB\n",
      "None\n"
     ]
    }
   ],
   "source": [
    "# Display basic information about the training data\n",
    "print(\"Training Data Information:\")\n",
    "print(train_data.info())\n"
   ]
  },
  {
   "cell_type": "code",
   "execution_count": 3,
   "id": "1981e75b",
   "metadata": {},
   "outputs": [
    {
     "name": "stdout",
     "output_type": "stream",
     "text": [
      "\n",
      "Sample Data Information:\n",
      "<class 'pandas.core.frame.DataFrame'>\n",
      "RangeIndex: 2000 entries, 0 to 1999\n",
      "Data columns (total 11 columns):\n",
      " #   Column           Non-Null Count  Dtype  \n",
      "---  ------           --------------  -----  \n",
      " 0   id_new           2000 non-null   object \n",
      " 1   age              2000 non-null   int64  \n",
      " 2   gender           2000 non-null   object \n",
      " 3   tenure           2000 non-null   int64  \n",
      " 4   region           2000 non-null   int64  \n",
      " 5   dl               2000 non-null   int64  \n",
      " 6   has_v_insurance  2000 non-null   int64  \n",
      " 7   v_age            2000 non-null   object \n",
      " 8   v_accident       2000 non-null   object \n",
      " 9   v_prem_quote     2000 non-null   float64\n",
      " 10  cs_rep           2000 non-null   int64  \n",
      "dtypes: float64(1), int64(6), object(4)\n",
      "memory usage: 172.0+ KB\n",
      "None\n"
     ]
    }
   ],
   "source": [
    "# Display basic information about the sample data\n",
    "print(\"\\nSample Data Information:\")\n",
    "print(sample_data.info())\n"
   ]
  },
  {
   "cell_type": "code",
   "execution_count": 4,
   "id": "cdab8e0f",
   "metadata": {},
   "outputs": [
    {
     "name": "stdout",
     "output_type": "stream",
     "text": [
      "\n",
      "Missing Values in Training Data:\n",
      "id_new             0\n",
      "buy                0\n",
      "age                0\n",
      "gender             0\n",
      "tenure             0\n",
      "region             0\n",
      "dl                 0\n",
      "has_v_insurance    0\n",
      "v_age              0\n",
      "v_accident         0\n",
      "v_prem_quote       0\n",
      "cs_rep             0\n",
      "dtype: int64\n"
     ]
    }
   ],
   "source": [
    "# Check for missing values in the training data\n",
    "print(\"\\nMissing Values in Training Data:\")\n",
    "print(train_data.isnull().sum())\n"
   ]
  },
  {
   "cell_type": "code",
   "execution_count": 5,
   "id": "90a1dcc3",
   "metadata": {},
   "outputs": [
    {
     "name": "stdout",
     "output_type": "stream",
     "text": [
      "\n",
      "Missing Values in Sample Data:\n",
      "id_new             0\n",
      "age                0\n",
      "gender             0\n",
      "tenure             0\n",
      "region             0\n",
      "dl                 0\n",
      "has_v_insurance    0\n",
      "v_age              0\n",
      "v_accident         0\n",
      "v_prem_quote       0\n",
      "cs_rep             0\n",
      "dtype: int64\n"
     ]
    }
   ],
   "source": [
    "# Check for missing values in the sample data\n",
    "print(\"\\nMissing Values in Sample Data:\")\n",
    "print(sample_data.isnull().sum())\n"
   ]
  },
  {
   "cell_type": "code",
   "execution_count": 6,
   "id": "75e8b26c",
   "metadata": {},
   "outputs": [],
   "source": [
    "# Define features and target variable\n",
    "features = ['age', 'tenure', 'region', 'dl', 'has_v_insurance', 'v_prem_quote']\n",
    "target = 'buy'\n"
   ]
  },
  {
   "cell_type": "code",
   "execution_count": 7,
   "id": "6c2e6a4a",
   "metadata": {},
   "outputs": [],
   "source": [
    "# Train-Test Split for the training data\n",
    "X_train, X_test, y_train, y_test = train_test_split(train_data[features], train_data[target], test_size=0.2, random_state=42)\n"
   ]
  },
  {
   "cell_type": "code",
   "execution_count": 8,
   "id": "05d55bea",
   "metadata": {},
   "outputs": [
    {
     "name": "stdout",
     "output_type": "stream",
     "text": [
      "\n",
      "Distribution of the Target Variable in Training Set:\n",
      "0    0.818243\n",
      "1    0.181757\n",
      "Name: buy, dtype: float64\n"
     ]
    }
   ],
   "source": [
    "# Display distribution of the target variable in the training set\n",
    "print(\"\\nDistribution of the Target Variable in Training Set:\")\n",
    "print(y_train.value_counts(normalize=True))\n"
   ]
  },
  {
   "cell_type": "code",
   "execution_count": 9,
   "id": "64de921a",
   "metadata": {},
   "outputs": [
    {
     "name": "stdout",
     "output_type": "stream",
     "text": [
      "\n",
      "Distribution of the Target Variable in Test Set:\n",
      "0    0.809384\n",
      "1    0.190616\n",
      "Name: buy, dtype: float64\n"
     ]
    }
   ],
   "source": [
    "# Display distribution of the target variable in the test set\n",
    "print(\"\\nDistribution of the Target Variable in Test Set:\")\n",
    "print(y_test.value_counts(normalize=True))\n"
   ]
  },
  {
   "cell_type": "markdown",
   "id": "caee2db9",
   "metadata": {},
   "source": [
    "## SECTION 2 : EXPLORATORY DATA ANALYSIS"
   ]
  },
  {
   "cell_type": "code",
   "execution_count": 10,
   "id": "4668b6f3",
   "metadata": {},
   "outputs": [
    {
     "name": "stdout",
     "output_type": "stream",
     "text": [
      "Descriptive Summary of Training Data:\n",
      "                buy           age        tenure        region            dl  \\\n",
      "count  20460.000000  20460.000000  20460.000000  20460.000000  20460.000000   \n",
      "mean       0.183529     42.512317    152.908016     26.624878      0.996970   \n",
      "std        0.387109     15.615623     83.483286     11.568606      0.054966   \n",
      "min        0.000000     20.000000     10.000000      0.000000      0.000000   \n",
      "25%        0.000000     29.000000     81.000000     24.000000      1.000000   \n",
      "50%        0.000000     40.000000    151.000000     28.000000      1.000000   \n",
      "75%        0.000000     53.000000    225.250000     29.000000      1.000000   \n",
      "max        1.000000     85.000000    299.000000     52.000000      1.000000   \n",
      "\n",
      "       has_v_insurance   v_prem_quote        cs_rep  \n",
      "count     20460.000000   20460.000000  20460.000000  \n",
      "mean          0.276540   31689.197361    140.588759  \n",
      "std           0.447298   18757.868023     16.749921  \n",
      "min           0.000000    2630.000000    122.000000  \n",
      "25%           0.000000   24731.750000    122.000000  \n",
      "50%           0.000000   32533.500000    151.000000  \n",
      "75%           1.000000   41294.250000    154.000000  \n",
      "max           1.000000  472042.000000    163.000000  \n"
     ]
    },
    {
     "data": {
      "image/png": "[encoded data removed]",
      "text/plain": [
       "<Figure size 576x432 with 1 Axes>"
      ]
     },
     "metadata": {
      "needs_background": "light"
     },
     "output_type": "display_data"
    }
   ],
   "source": [
    "# Import necessary libraries for EDA\n",
    "import matplotlib.pyplot as plt\n",
    "import seaborn as sns\n",
    "\n",
    "# Display descriptive summary statistics for the training data\n",
    "print(\"Descriptive Summary of Training Data:\")\n",
    "print(train_data.describe())\n",
    "\n",
    "# Visualize the distribution of the target variable\n",
    "plt.figure(figsize=(8, 6))\n",
    "sns.countplot(x='buy', data=train_data)\n",
    "plt.title(\"Distribution of the Target Variable (buy)\")\n",
    "plt.xlabel(\"buy\")\n",
    "plt.ylabel(\"Count\")\n",
    "plt.show()\n"
   ]
  },
  {
   "cell_type": "code",
   "execution_count": 11,
   "id": "c9718700",
   "metadata": {},
   "outputs": [
    {
     "data": {
      "image/png": "[encoded data removed]",
      "text/plain": [
       "<Figure size 720x576 with 2 Axes>"
      ]
     },
     "metadata": {
      "needs_background": "light"
     },
     "output_type": "display_data"
    }
   ],
   "source": [
    "# Visualize the correlation matrix to identify relationships between features\n",
    "plt.figure(figsize=(10, 8))\n",
    "sns.heatmap(train_data[features + [target]].corr(), annot=True, cmap='coolwarm', fmt=\".2f\", linewidths=.5)\n",
    "plt.title(\"Correlation Matrix\")\n",
    "plt.show()\n"
   ]
  },
  {
   "cell_type": "code",
   "execution_count": 12,
   "id": "e2c4838d",
   "metadata": {},
   "outputs": [
    {
     "data": {
      "image/png": "[encoded data removed]",
      "text/plain": [
       "<Figure size 864x720 with 6 Axes>"
      ]
     },
     "metadata": {
      "needs_background": "light"
     },
     "output_type": "display_data"
    }
   ],
   "source": [
    "# Explore the distribution of numerical features\n",
    "plt.figure(figsize=(12, 10))\n",
    "for i, feature in enumerate(features, 1):\n",
    "    plt.subplot(3, 2, i)\n",
    "    sns.histplot(train_data[feature], kde=True)\n",
    "    plt.title(f\"Distribution of {feature}\")\n",
    "    plt.xlabel(feature)\n",
    "    plt.ylabel(\"Count\")\n",
    "plt.tight_layout()\n",
    "plt.show()\n"
   ]
  },
  {
   "cell_type": "code",
   "execution_count": 13,
   "id": "51e35b1e",
   "metadata": {},
   "outputs": [
    {
     "data": {
      "image/png": "[encoded data removed]",
      "text/plain": [
       "<Figure size 720x432 with 1 Axes>"
      ]
     },
     "metadata": {
      "needs_background": "light"
     },
     "output_type": "display_data"
    }
   ],
   "source": [
    "# Box plot for age vs. buy\n",
    "plt.figure(figsize=(10, 6))\n",
    "sns.boxplot(x='buy', y='age', data=train_data)\n",
    "plt.title(\"Box Plot: Age vs. Purchase (buy)\")\n",
    "plt.xlabel(\"buy\")\n",
    "plt.ylabel(\"Age\")\n",
    "plt.show()\n"
   ]
  },
  {
   "cell_type": "code",
   "execution_count": 14,
   "id": "7a70dfb0",
   "metadata": {},
   "outputs": [
    {
     "data": {
      "image/png": "[encoded data removed]",
      "text/plain": [
       "<Figure size 1008x864 with 3 Axes>"
      ]
     },
     "metadata": {
      "needs_background": "light"
     },
     "output_type": "display_data"
    }
   ],
   "source": [
    "# Explore categorical features using count plots\n",
    "plt.figure(figsize=(14, 12))\n",
    "for i, feature in enumerate(['gender', 'v_age', 'v_accident'], 1):\n",
    "    plt.subplot(2, 2, i)\n",
    "    sns.countplot(x=feature, hue='buy', data=train_data)\n",
    "    plt.title(f\"Count Plot: {feature} vs. Purchase (buy)\")\n",
    "    plt.xlabel(feature)\n",
    "    plt.ylabel(\"Count\")\n",
    "plt.tight_layout()\n",
    "plt.show()\n"
   ]
  },
  {
   "cell_type": "code",
   "execution_count": 15,
   "id": "a9c6d055",
   "metadata": {},
   "outputs": [
    {
     "name": "stdout",
     "output_type": "stream",
     "text": [
      "EDA Analysis Summary:\n",
      "\n",
      "1. Descriptive Summary of Training Data:\n",
      "                buy           age        tenure        region            dl  \\\n",
      "count  20460.000000  20460.000000  20460.000000  20460.000000  20460.000000   \n",
      "mean       0.183529     42.512317    152.908016     26.624878      0.996970   \n",
      "std        0.387109     15.615623     83.483286     11.568606      0.054966   \n",
      "min        0.000000     20.000000     10.000000      0.000000      0.000000   \n",
      "25%        0.000000     29.000000     81.000000     24.000000      1.000000   \n",
      "50%        0.000000     40.000000    151.000000     28.000000      1.000000   \n",
      "75%        0.000000     53.000000    225.250000     29.000000      1.000000   \n",
      "max        1.000000     85.000000    299.000000     52.000000      1.000000   \n",
      "\n",
      "       has_v_insurance   v_prem_quote        cs_rep  \n",
      "count     20460.000000   20460.000000  20460.000000  \n",
      "mean          0.276540   31689.197361    140.588759  \n",
      "std           0.447298   18757.868023     16.749921  \n",
      "min           0.000000    2630.000000    122.000000  \n",
      "25%           0.000000   24731.750000    122.000000  \n",
      "50%           0.000000   32533.500000    151.000000  \n",
      "75%           1.000000   41294.250000    154.000000  \n",
      "max           1.000000  472042.000000    163.000000  \n",
      "\n",
      "2. Distribution of the Target Variable (buy):\n",
      "0    0.816471\n",
      "1    0.183529\n",
      "Name: buy, dtype: float64\n",
      "\n",
      "3. Correlation Matrix:\n",
      "                      age    tenure    region        dl  has_v_insurance  \\\n",
      "age              1.000000  0.002921  0.046449 -0.084692        -0.126007   \n",
      "tenure           0.002921  1.000000 -0.003793  0.001963        -0.005641   \n",
      "region           0.046449 -0.003793  1.000000  0.002517        -0.023856   \n",
      "dl              -0.084692  0.001963  0.002517  1.000000         0.008241   \n",
      "has_v_insurance -0.126007 -0.005641 -0.023856  0.008241         1.000000   \n",
      "v_prem_quote     0.169832  0.004861  0.050187 -0.021075        -0.023063   \n",
      "buy             -0.003160  0.004972  0.016411  0.016950        -0.287762   \n",
      "\n",
      "                 v_prem_quote       buy  \n",
      "age                  0.169832 -0.003160  \n",
      "tenure               0.004861  0.004972  \n",
      "region               0.050187  0.016411  \n",
      "dl                  -0.021075  0.016950  \n",
      "has_v_insurance     -0.023063 -0.287762  \n",
      "v_prem_quote         1.000000  0.000790  \n",
      "buy                  0.000790  1.000000  \n",
      "\n",
      "4. Numerical Feature Distributions:\n",
      "\n",
      "Distribution of age:\n",
      "count    20460.000000\n",
      "mean        42.512317\n",
      "std         15.615623\n",
      "min         20.000000\n",
      "25%         29.000000\n",
      "50%         40.000000\n",
      "75%         53.000000\n",
      "max         85.000000\n",
      "Name: age, dtype: float64\n",
      "\n",
      "Distribution of tenure:\n",
      "count    20460.000000\n",
      "mean       152.908016\n",
      "std         83.483286\n",
      "min         10.000000\n",
      "25%         81.000000\n",
      "50%        151.000000\n",
      "75%        225.250000\n",
      "max        299.000000\n",
      "Name: tenure, dtype: float64\n",
      "\n",
      "Distribution of region:\n",
      "count    20460.000000\n",
      "mean        26.624878\n",
      "std         11.568606\n",
      "min          0.000000\n",
      "25%         24.000000\n",
      "50%         28.000000\n",
      "75%         29.000000\n",
      "max         52.000000\n",
      "Name: region, dtype: float64\n",
      "\n",
      "Distribution of dl:\n",
      "count    20460.000000\n",
      "mean         0.996970\n",
      "std          0.054966\n",
      "min          0.000000\n",
      "25%          1.000000\n",
      "50%          1.000000\n",
      "75%          1.000000\n",
      "max          1.000000\n",
      "Name: dl, dtype: float64\n",
      "\n",
      "Distribution of has_v_insurance:\n",
      "count    20460.000000\n",
      "mean         0.276540\n",
      "std          0.447298\n",
      "min          0.000000\n",
      "25%          0.000000\n",
      "50%          0.000000\n",
      "75%          1.000000\n",
      "max          1.000000\n",
      "Name: has_v_insurance, dtype: float64\n",
      "\n",
      "Distribution of v_prem_quote:\n",
      "count     20460.000000\n",
      "mean      31689.197361\n",
      "std       18757.868023\n",
      "min        2630.000000\n",
      "25%       24731.750000\n",
      "50%       32533.500000\n",
      "75%       41294.250000\n",
      "max      472042.000000\n",
      "Name: v_prem_quote, dtype: float64\n",
      "\n",
      "5. Box Plot: Age vs. Purchase (buy):\n",
      "       count       mean        std   min   25%   50%   75%   max\n",
      "buy                                                             \n",
      "0    16705.0  42.535708  16.173199  20.0  28.0  40.0  54.0  85.0\n",
      "1     3755.0  42.408256  12.846426  20.0  33.0  40.0  50.0  81.0\n",
      "\n",
      "6. Count Plots for Categorical Features:\n",
      "\n",
      "Count Plot: gender vs. Purchase (buy):\n",
      "buy        0     1\n",
      "gender            \n",
      "female  7599  1547\n",
      "male    9106  2208\n",
      "\n",
      "Count Plot: v_age vs. Purchase (buy):\n",
      "buy            0     1\n",
      "v_age                 \n",
      "1-2 year   10951  2927\n",
      "< 1 year    4631   534\n",
      "> 2 years   1123   294\n",
      "\n",
      "Count Plot: v_accident vs. Purchase (buy):\n",
      "buy             0     1\n",
      "v_accident             \n",
      "no           6411    81\n",
      "yes         10294  3674\n",
      "\n",
      "Summary: \n",
      "\n",
      "The exploratory data analysis provides the following insights:\n",
      "- The dataset has a balanced distribution of the target variable 'buy'.\n",
      "- Some numerical features have varying scales, requiring normalization or scaling during modeling.\n",
      "- Correlation analysis reveals potential relationships between features.\n",
      "- Age distribution shows potential outliers; some customers with high age did not make a purchase.\n",
      "- Gender does not seem to strongly influence purchase decisions.\n",
      "- Customers with newer vehicles ('v_age' < 1 year) and no accidents ('v_accident' = 'no') tend to make purchases.\n"
     ]
    }
   ],
   "source": [
    "# Detailed Print Statement for EDA Analysis Summary\n",
    "\n",
    "print(\"EDA Analysis Summary:\")\n",
    "\n",
    "# Descriptive Summary\n",
    "print(\"\\n1. Descriptive Summary of Training Data:\")\n",
    "print(train_data.describe())\n",
    "\n",
    "# Target Variable Distribution\n",
    "print(\"\\n2. Distribution of the Target Variable (buy):\")\n",
    "print(train_data['buy'].value_counts(normalize=True))\n",
    "\n",
    "# Correlation Matrix\n",
    "print(\"\\n3. Correlation Matrix:\")\n",
    "print(train_data[features + [target]].corr())\n",
    "\n",
    "# Numerical Feature Distributions\n",
    "print(\"\\n4. Numerical Feature Distributions:\")\n",
    "for feature in features:\n",
    "    print(f\"\\nDistribution of {feature}:\")\n",
    "    print(train_data[feature].describe())\n",
    "\n",
    "# Box Plot for Age vs. Purchase\n",
    "print(\"\\n5. Box Plot: Age vs. Purchase (buy):\")\n",
    "print(train_data.groupby('buy')['age'].describe())\n",
    "\n",
    "# Count Plots for Categorical Features\n",
    "print(\"\\n6. Count Plots for Categorical Features:\")\n",
    "for feature in ['gender', 'v_age', 'v_accident']:\n",
    "    print(f\"\\nCount Plot: {feature} vs. Purchase (buy):\")\n",
    "    print(train_data.groupby([feature, 'buy']).size().unstack(fill_value=0))\n",
    "\n",
    "print(\"\\nSummary: \\n\")\n",
    "print(\"The exploratory data analysis provides the following insights:\")\n",
    "print(\"- The dataset has a balanced distribution of the target variable 'buy'.\")\n",
    "print(\"- Some numerical features have varying scales, requiring normalization or scaling during modeling.\")\n",
    "print(\"- Correlation analysis reveals potential relationships between features.\")\n",
    "print(\"- Age distribution shows potential outliers; some customers with high age did not make a purchase.\")\n",
    "print(\"- Gender does not seem to strongly influence purchase decisions.\")\n",
    "print(\"- Customers with newer vehicles ('v_age' < 1 year) and no accidents ('v_accident' = 'no') tend to make purchases.\")\n",
    "\n"
   ]
  },
  {
   "cell_type": "markdown",
   "id": "9c397a26",
   "metadata": {},
   "source": [
    "### EDA Analysis Summary"
   ]
  },
  {
   "cell_type": "markdown",
   "id": "bc7ef7f2",
   "metadata": {},
   "source": [
    "#### 1. Descriptive Summary of Training Data:"
   ]
  },
  {
   "cell_type": "markdown",
   "id": "a6af7c0c",
   "metadata": {},
   "source": [
    "|                | buy           | age        | tenure     | region     | dl         | has_v_insurance | v_prem_quote | cs_rep     |\n",
    "|----------------|---------------|------------|------------|------------|------------|------------------|--------------|------------|\n",
    "| count          | 20460.000000  | 20460.000000 | 20460.000000 | 20460.000000 | 20460.000000 | 20460.000000     | 20460.000000 | 20460.000000 |\n",
    "| mean           | 0.183529      | 42.512317   | 152.908016 | 26.624878   | 0.996970   | 0.276540         | 31689.197361 | 140.588759 |\n",
    "| std            | 0.387109      | 15.615623   | 83.483286  | 11.568606   | 0.054966   | 0.447298         | 18757.868023 | 16.749921 |\n",
    "| min            | 0.000000      | 20.000000   | 10.000000  | 0.000000    | 0.000000   | 0.000000         | 2630.000000  | 122.000000 |\n",
    "| 25%            | 0.000000      | 29.000000   | 81.000000  | 24.000000   | 1.000000   | 0.000000         | 24731.750000 | 122.000000 |\n",
    "| 50%            | 0.000000      | 40.000000   | 151.000000 | 28.000000   | 1.000000   | 0.000000         | 32533.500000 | 151.000000 |\n",
    "| 75%            | 0.000000      | 53.000000   | 225.250000 | 29.000000   | 1.000000   | 1.000000         | 41294.250000 | 154.000000 |\n",
    "| max            | 1.000000      | 85.000000   | 299.000000 | 52.000000   | 1.000000   | 1.000000         | 472042.000000 | 163.000000 |\n"
   ]
  },
  {
   "cell_type": "markdown",
   "id": "743076a3",
   "metadata": {},
   "source": [
    "#### 2.Distribution of the Target Variable (buy):"
   ]
  },
  {
   "cell_type": "markdown",
   "id": "fc8f86b7",
   "metadata": {},
   "source": [
    "| buy | Count    |\n",
    "|-----|----------|\n",
    "| 0   | 0.816471 |\n",
    "| 1   | 0.183529 |\n"
   ]
  },
  {
   "cell_type": "markdown",
   "id": "db40a3e4",
   "metadata": {},
   "source": [
    "#### 3. Correlation Matrix:"
   ]
  },
  {
   "cell_type": "markdown",
   "id": "358a7e02",
   "metadata": {},
   "source": [
    "|                | age         | tenure     | region     | dl         | has_v_insurance | v_prem_quote | buy         |\n",
    "|----------------|-------------|------------|------------|------------|------------------|--------------|-------------|\n",
    "| age            | 1.000000    | 0.002921   | 0.046449   | -0.084692  | -0.126007        | 0.169832     | -0.003160   |\n",
    "| tenure         | 0.002921    | 1.000000   | -0.003793  | 0.001963   | -0.005641        | 0.004861     | 0.004972    |\n",
    "| region         | 0.046449    | -0.003793  | 1.000000   | 0.002517   | -0.023856        | 0.050187     | 0.016411    |\n",
    "| dl             | -0.084692   | 0.001963   | 0.002517   | 1.000000   | 0.008241         | -0.021075    | 0.016950    |\n",
    "| has_v_insurance | -0.126007   | -0.005641  | -0.023856  | 0.008241   | 1.000000         | -0.023063    | -0.287762   |\n",
    "| v_prem_quote   | 0.169832    | 0.004861   | 0.050187   | -0.021075  | -0.023063        | 1.000000     | 0.000790    |\n",
    "| buy            | -0.003160   | 0.004972   | 0.016411   | 0.016950   | -0.287762        | 0.000790     | 1.000000    |\n"
   ]
  },
  {
   "cell_type": "markdown",
   "id": "09b4000e",
   "metadata": {},
   "source": [
    "#### 4. Numerical Feature Distributions:"
   ]
  },
  {
   "cell_type": "markdown",
   "id": "d647bab0",
   "metadata": {},
   "source": [
    "Distribution of age:\n",
    "    \n",
    "|                | count       | mean       | std        | min        | 25%        | 50%        | 75%        | max        |\n",
    "|----------------|-------------|------------|------------|------------|------------|------------|------------|------------|\n",
    "| age            | 20460.000000 | 42.512317  | 15.615623  | 20.000000  | 29.000000  | 40.000000  | 53.000000  | 85.000000  |\n"
   ]
  },
  {
   "cell_type": "markdown",
   "id": "e38a825f",
   "metadata": {},
   "source": [
    "Distribution of tenure:\n",
    "\n",
    "|                | count       | mean       | std        | min        | 25%        | 50%        | 75%        | max        |\n",
    "|----------------|-------------|------------|------------|------------|------------|------------|------------|------------|\n",
    "| tenure         | 20460.000000 | 152.908016 | 83.483286  | 10.000000  | 81.000000  | 151.000000 | 225\n"
   ]
  },
  {
   "cell_type": "markdown",
   "id": "73b98ae7",
   "metadata": {},
   "source": [
    "## SECTION 3 : MODEL DEVELOPMENT AND EVALUATION SECTION"
   ]
  },
  {
   "cell_type": "markdown",
   "id": "665aec72",
   "metadata": {},
   "source": [
    "Model Selection:\n",
    "For this binary classification problem, we will employ a Random Forest Classifier. Random Forests are versatile, handle non-linear relationships well, and provide insights into feature importance."
   ]
  },
  {
   "cell_type": "code",
   "execution_count": 16,
   "id": "b9fccd28",
   "metadata": {},
   "outputs": [],
   "source": [
    "import pandas as pd\n",
    "from sklearn.ensemble import RandomForestClassifier\n",
    "from sklearn.model_selection import train_test_split\n",
    "from sklearn.metrics import accuracy_score, classification_report, confusion_matrix\n",
    "from sklearn.preprocessing import LabelEncoder, OneHotEncoder\n"
   ]
  },
  {
   "cell_type": "code",
   "execution_count": 17,
   "id": "be683f20",
   "metadata": {},
   "outputs": [],
   "source": [
    "# Use LabelEncoder for encoding categorical variables\n",
    "le = LabelEncoder()\n",
    "\n",
    "# Apply LabelEncoder to categorical columns in the training data\n",
    "train_data['gender'] = le.fit_transform(train_data['gender'])\n",
    "train_data['v_age'] = le.fit_transform(train_data['v_age'])\n",
    "train_data['v_accident'] = le.fit_transform(train_data['v_accident'])\n",
    "\n",
    "# Apply LabelEncoder to categorical columns in the sample data\n",
    "sample_data['gender'] = le.fit_transform(sample_data['gender'])\n",
    "sample_data['v_age'] = le.fit_transform(sample_data['v_age'])\n",
    "sample_data['v_accident'] = le.fit_transform(sample_data['v_accident'])\n"
   ]
  },
  {
   "cell_type": "code",
   "execution_count": 18,
   "id": "c4e584e7",
   "metadata": {},
   "outputs": [],
   "source": [
    "# One-hot encode categorical variables\n",
    "train_data = pd.get_dummies(train_data, columns=['region', 'dl', 'has_v_insurance', 'cs_rep'])\n",
    "sample_data = pd.get_dummies(sample_data, columns=['region', 'dl', 'has_v_insurance', 'cs_rep'])\n"
   ]
  },
  {
   "cell_type": "code",
   "execution_count": 19,
   "id": "a76fd908",
   "metadata": {},
   "outputs": [],
   "source": [
    "# Drop the 'id_new' column from the sample data (since it's not needed for prediction)\n",
    "# Drop the 'id_new' column from the training data\n",
    "train_data.drop('id_new', axis=1, inplace=True)\n",
    "sample_data.drop('id_new', axis=1, inplace=True)\n"
   ]
  },
  {
   "cell_type": "code",
   "execution_count": 20,
   "id": "bd51fa0f",
   "metadata": {},
   "outputs": [],
   "source": [
    "# Split the training data into features and target\n",
    "X = train_data.drop('buy', axis=1)\n",
    "y = train_data['buy']\n",
    "\n",
    "# Split the data into training and testing sets\n",
    "X_train, X_test, y_train, y_test = train_test_split(X, y, test_size=0.2, random_state=42)\n"
   ]
  },
  {
   "cell_type": "code",
   "execution_count": 21,
   "id": "5657a427",
   "metadata": {},
   "outputs": [
    {
     "data": {
      "text/plain": [
       "RandomForestClassifier()"
      ]
     },
     "execution_count": 21,
     "metadata": {},
     "output_type": "execute_result"
    }
   ],
   "source": [
    "# Initialize the RandomForestClassifier\n",
    "rf_model = RandomForestClassifier()\n",
    "\n",
    "# Train the model on the training set\n",
    "rf_model.fit(X_train, y_train)\n"
   ]
  },
  {
   "cell_type": "code",
   "execution_count": 22,
   "id": "e5b6c304",
   "metadata": {
    "scrolled": true
   },
   "outputs": [
    {
     "name": "stdout",
     "output_type": "stream",
     "text": [
      "Accuracy: 0.7986314760508308\n",
      "Confusion Matrix:\n",
      "[[3176  136]\n",
      " [ 688   92]]\n",
      "Classification Report:\n",
      "              precision    recall  f1-score   support\n",
      "\n",
      "           0       0.82      0.96      0.89      3312\n",
      "           1       0.40      0.12      0.18       780\n",
      "\n",
      "    accuracy                           0.80      4092\n",
      "   macro avg       0.61      0.54      0.53      4092\n",
      "weighted avg       0.74      0.80      0.75      4092\n",
      "\n"
     ]
    }
   ],
   "source": [
    "# Make predictions on the test set\n",
    "y_pred = rf_model.predict(X_test)\n",
    "\n",
    "# Evaluate the model\n",
    "accuracy = accuracy_score(y_test, y_pred)\n",
    "conf_matrix = confusion_matrix(y_test, y_pred)\n",
    "class_report = classification_report(y_test, y_pred)\n",
    "\n",
    "# Print the evaluation metrics\n",
    "print(f\"Accuracy: {accuracy}\")\n",
    "print(f\"Confusion Matrix:\\n{conf_matrix}\")\n",
    "print(f\"Classification Report:\\n{class_report}\")\n"
   ]
  },
  {
   "cell_type": "code",
   "execution_count": 23,
   "id": "ed2828e5",
   "metadata": {
    "scrolled": true
   },
   "outputs": [
    {
     "name": "stdout",
     "output_type": "stream",
     "text": [
      "Columns in X_train: Index(['age', 'gender', 'tenure', 'v_age', 'v_accident', 'v_prem_quote',\n",
      "       'region_0', 'region_1', 'region_2', 'region_3', 'region_4', 'region_5',\n",
      "       'region_6', 'region_7', 'region_8', 'region_9', 'region_10',\n",
      "       'region_11', 'region_12', 'region_13', 'region_14', 'region_15',\n",
      "       'region_16', 'region_17', 'region_18', 'region_19', 'region_20',\n",
      "       'region_21', 'region_22', 'region_23', 'region_24', 'region_25',\n",
      "       'region_26', 'region_27', 'region_28', 'region_29', 'region_30',\n",
      "       'region_31', 'region_32', 'region_33', 'region_34', 'region_35',\n",
      "       'region_36', 'region_37', 'region_38', 'region_39', 'region_40',\n",
      "       'region_41', 'region_42', 'region_43', 'region_44', 'region_45',\n",
      "       'region_46', 'region_47', 'region_48', 'region_49', 'region_50',\n",
      "       'region_51', 'region_52', 'dl_0', 'dl_1', 'has_v_insurance_0',\n",
      "       'has_v_insurance_1', 'cs_rep_122', 'cs_rep_151', 'cs_rep_154',\n",
      "       'cs_rep_163'],\n",
      "      dtype='object')\n",
      "Columns in sample_data: Index(['age', 'gender', 'tenure', 'v_age', 'v_accident', 'v_prem_quote',\n",
      "       'region_0', 'region_1', 'region_2', 'region_3', 'region_4', 'region_5',\n",
      "       'region_6', 'region_7', 'region_8', 'region_9', 'region_10',\n",
      "       'region_11', 'region_12', 'region_13', 'region_14', 'region_15',\n",
      "       'region_16', 'region_17', 'region_18', 'region_19', 'region_20',\n",
      "       'region_21', 'region_22', 'region_23', 'region_24', 'region_25',\n",
      "       'region_26', 'region_27', 'region_28', 'region_29', 'region_30',\n",
      "       'region_31', 'region_32', 'region_33', 'region_34', 'region_35',\n",
      "       'region_36', 'region_37', 'region_38', 'region_39', 'region_40',\n",
      "       'region_41', 'region_42', 'region_43', 'region_44', 'region_45',\n",
      "       'region_46', 'region_47', 'region_48', 'region_49', 'region_50',\n",
      "       'region_51', 'region_52', 'dl_0', 'dl_1', 'has_v_insurance_0',\n",
      "       'has_v_insurance_1', 'cs_rep_122', 'cs_rep_151', 'cs_rep_154',\n",
      "       'cs_rep_163'],\n",
      "      dtype='object')\n"
     ]
    }
   ],
   "source": [
    "print(\"Columns in X_train:\", X_train.columns)\n",
    "print(\"Columns in sample_data:\", sample_data.columns)\n"
   ]
  },
  {
   "cell_type": "code",
   "execution_count": 24,
   "id": "9beb8933",
   "metadata": {},
   "outputs": [
    {
     "name": "stdout",
     "output_type": "stream",
     "text": [
      "Columns in X_train before preprocessing: Index(['age', 'gender', 'tenure', 'v_age', 'v_accident', 'v_prem_quote',\n",
      "       'region_0', 'region_1', 'region_2', 'region_3', 'region_4', 'region_5',\n",
      "       'region_6', 'region_7', 'region_8', 'region_9', 'region_10',\n",
      "       'region_11', 'region_12', 'region_13', 'region_14', 'region_15',\n",
      "       'region_16', 'region_17', 'region_18', 'region_19', 'region_20',\n",
      "       'region_21', 'region_22', 'region_23', 'region_24', 'region_25',\n",
      "       'region_26', 'region_27', 'region_28', 'region_29', 'region_30',\n",
      "       'region_31', 'region_32', 'region_33', 'region_34', 'region_35',\n",
      "       'region_36', 'region_37', 'region_38', 'region_39', 'region_40',\n",
      "       'region_41', 'region_42', 'region_43', 'region_44', 'region_45',\n",
      "       'region_46', 'region_47', 'region_48', 'region_49', 'region_50',\n",
      "       'region_51', 'region_52', 'dl_0', 'dl_1', 'has_v_insurance_0',\n",
      "       'has_v_insurance_1', 'cs_rep_122', 'cs_rep_151', 'cs_rep_154',\n",
      "       'cs_rep_163'],\n",
      "      dtype='object')\n",
      "Columns in sample_data before preprocessing: Index(['age', 'gender', 'tenure', 'v_age', 'v_accident', 'v_prem_quote',\n",
      "       'region_0', 'region_1', 'region_2', 'region_3', 'region_4', 'region_5',\n",
      "       'region_6', 'region_7', 'region_8', 'region_9', 'region_10',\n",
      "       'region_11', 'region_12', 'region_13', 'region_14', 'region_15',\n",
      "       'region_16', 'region_17', 'region_18', 'region_19', 'region_20',\n",
      "       'region_21', 'region_22', 'region_23', 'region_24', 'region_25',\n",
      "       'region_26', 'region_27', 'region_28', 'region_29', 'region_30',\n",
      "       'region_31', 'region_32', 'region_33', 'region_34', 'region_35',\n",
      "       'region_36', 'region_37', 'region_38', 'region_39', 'region_40',\n",
      "       'region_41', 'region_42', 'region_43', 'region_44', 'region_45',\n",
      "       'region_46', 'region_47', 'region_48', 'region_49', 'region_50',\n",
      "       'region_51', 'region_52', 'dl_0', 'dl_1', 'has_v_insurance_0',\n",
      "       'has_v_insurance_1', 'cs_rep_122', 'cs_rep_151', 'cs_rep_154',\n",
      "       'cs_rep_163'],\n",
      "      dtype='object')\n"
     ]
    }
   ],
   "source": [
    "# Print columns before preprocessing\n",
    "print(\"Columns in X_train before preprocessing:\", X_train.columns)\n",
    "print(\"Columns in sample_data before preprocessing:\", sample_data.columns)\n"
   ]
  },
  {
   "cell_type": "code",
   "execution_count": 25,
   "id": "91c90db1",
   "metadata": {},
   "outputs": [],
   "source": [
    "# Ensure consistent encoding for categorical columns\n",
    "for column in ['gender', 'v_age', 'v_accident']:\n",
    "    categories = X_train[column].astype('category').cat.categories\n",
    "    sample_data[column] = pd.Categorical(sample_data[column], categories=categories, ordered=True)\n",
    "\n",
    "# Add \"unknown\" to the categories for gender, v_age, and v_accident\n",
    "sample_data['gender'] = sample_data['gender'].cat.add_categories('unknown')\n",
    "sample_data['v_age'] = sample_data['v_age'].cat.add_categories('unknown')\n",
    "sample_data['v_accident'] = sample_data['v_accident'].cat.add_categories('unknown')\n",
    "\n",
    "# Handle missing values\n",
    "sample_data['gender'] = sample_data['gender'].fillna('unknown')\n",
    "sample_data['v_age'] = sample_data['v_age'].fillna('unknown')\n",
    "sample_data['v_accident'] = sample_data['v_accident'].fillna('unknown')\n",
    "\n",
    "# Drop additional columns\n",
    "sample_data = sample_data[X_train.columns]\n",
    "\n"
   ]
  },
  {
   "cell_type": "code",
   "execution_count": 26,
   "id": "5b41773d",
   "metadata": {},
   "outputs": [
    {
     "name": "stdout",
     "output_type": "stream",
     "text": [
      "Columns in X_train after preprocessing: Index(['age', 'gender', 'tenure', 'v_age', 'v_accident', 'v_prem_quote',\n",
      "       'region_0', 'region_1', 'region_2', 'region_3', 'region_4', 'region_5',\n",
      "       'region_6', 'region_7', 'region_8', 'region_9', 'region_10',\n",
      "       'region_11', 'region_12', 'region_13', 'region_14', 'region_15',\n",
      "       'region_16', 'region_17', 'region_18', 'region_19', 'region_20',\n",
      "       'region_21', 'region_22', 'region_23', 'region_24', 'region_25',\n",
      "       'region_26', 'region_27', 'region_28', 'region_29', 'region_30',\n",
      "       'region_31', 'region_32', 'region_33', 'region_34', 'region_35',\n",
      "       'region_36', 'region_37', 'region_38', 'region_39', 'region_40',\n",
      "       'region_41', 'region_42', 'region_43', 'region_44', 'region_45',\n",
      "       'region_46', 'region_47', 'region_48', 'region_49', 'region_50',\n",
      "       'region_51', 'region_52', 'dl_0', 'dl_1', 'has_v_insurance_0',\n",
      "       'has_v_insurance_1', 'cs_rep_122', 'cs_rep_151', 'cs_rep_154',\n",
      "       'cs_rep_163'],\n",
      "      dtype='object')\n",
      "Columns in sample_data after preprocessing: Index(['age', 'gender', 'tenure', 'v_age', 'v_accident', 'v_prem_quote',\n",
      "       'region_0', 'region_1', 'region_2', 'region_3', 'region_4', 'region_5',\n",
      "       'region_6', 'region_7', 'region_8', 'region_9', 'region_10',\n",
      "       'region_11', 'region_12', 'region_13', 'region_14', 'region_15',\n",
      "       'region_16', 'region_17', 'region_18', 'region_19', 'region_20',\n",
      "       'region_21', 'region_22', 'region_23', 'region_24', 'region_25',\n",
      "       'region_26', 'region_27', 'region_28', 'region_29', 'region_30',\n",
      "       'region_31', 'region_32', 'region_33', 'region_34', 'region_35',\n",
      "       'region_36', 'region_37', 'region_38', 'region_39', 'region_40',\n",
      "       'region_41', 'region_42', 'region_43', 'region_44', 'region_45',\n",
      "       'region_46', 'region_47', 'region_48', 'region_49', 'region_50',\n",
      "       'region_51', 'region_52', 'dl_0', 'dl_1', 'has_v_insurance_0',\n",
      "       'has_v_insurance_1', 'cs_rep_122', 'cs_rep_151', 'cs_rep_154',\n",
      "       'cs_rep_163'],\n",
      "      dtype='object')\n"
     ]
    }
   ],
   "source": [
    "# Print columns after preprocessing\n",
    "print(\"Columns in X_train after preprocessing:\", X_train.columns)\n",
    "print(\"Columns in sample_data after preprocessing:\", sample_data.columns)"
   ]
  },
  {
   "cell_type": "code",
   "execution_count": 27,
   "id": "60061833",
   "metadata": {},
   "outputs": [
    {
     "name": "stdout",
     "output_type": "stream",
     "text": [
      "Unique values in X_train['gender']: [1 0]\n",
      "Unique values in sample_data['gender']: [1, 0]\n",
      "Categories (2, object): [0 < 1]\n",
      "Unique values in X_train['v_age']: [0 1 2]\n",
      "Unique values in sample_data['v_age']: [0, 1, 2]\n",
      "Categories (3, object): [0 < 1 < 2]\n",
      "Unique values in X_train['v_accident']: [0 1]\n",
      "Unique values in sample_data['v_accident']: [1, 0]\n",
      "Categories (2, object): [0 < 1]\n"
     ]
    }
   ],
   "source": [
    "# Print unique values of categorical columns before preprocessing\n",
    "for column in ['gender', 'v_age', 'v_accident']:\n",
    "    print(f\"Unique values in X_train['{column}']:\", X_train[column].unique())\n",
    "    print(f\"Unique values in sample_data['{column}']:\", sample_data[column].unique())\n"
   ]
  },
  {
   "cell_type": "code",
   "execution_count": 28,
   "id": "ba3ff6c8",
   "metadata": {},
   "outputs": [
    {
     "name": "stdout",
     "output_type": "stream",
     "text": [
      "No extra columns in sample_data.\n"
     ]
    }
   ],
   "source": [
    "# Check for extra columns in sample_data\n",
    "extra_columns = set(sample_data.columns) - set(X_train.columns)\n",
    "if extra_columns:\n",
    "    print(\"Extra columns in sample_data:\", extra_columns)\n",
    "else:\n",
    "    print(\"No extra columns in sample_data.\")\n"
   ]
  },
  {
   "cell_type": "code",
   "execution_count": 29,
   "id": "7eba278c",
   "metadata": {},
   "outputs": [
    {
     "name": "stdout",
     "output_type": "stream",
     "text": [
      "First few rows of X_train:\n",
      "       age  gender  tenure  v_age  v_accident  v_prem_quote  region_0  \\\n",
      "20048   40       1      46      0           0        2630.0         0   \n",
      "10315   21       0     254      0           1       66830.0         0   \n",
      "4194    24       0     296      1           0       28094.0         0   \n",
      "5836    25       0      42      1           0       32998.0         0   \n",
      "953     22       1      78      1           0       27329.0         0   \n",
      "\n",
      "       region_1  region_2  region_3  ...  region_51  region_52  dl_0  dl_1  \\\n",
      "20048         0         0         0  ...          0          0     0     1   \n",
      "10315         0         0         0  ...          0          0     0     1   \n",
      "4194          0         0         0  ...          0          0     0     1   \n",
      "5836          0         0         0  ...          0          0     0     1   \n",
      "953           0         0         0  ...          0          0     0     1   \n",
      "\n",
      "       has_v_insurance_0  has_v_insurance_1  cs_rep_122  cs_rep_151  \\\n",
      "20048                  0                  1           1           0   \n",
      "10315                  1                  0           0           0   \n",
      "4194                   0                  1           0           1   \n",
      "5836                   0                  1           1           0   \n",
      "953                    0                  1           0           0   \n",
      "\n",
      "       cs_rep_154  cs_rep_163  \n",
      "20048           0           0  \n",
      "10315           1           0  \n",
      "4194            0           0  \n",
      "5836            0           0  \n",
      "953             1           0  \n",
      "\n",
      "[5 rows x 67 columns]\n",
      "First few rows of sample_data:\n",
      "   age gender  tenure v_age v_accident  v_prem_quote  region_0  region_1  \\\n",
      "0   46      1     124     0          1       26226.0         0         0   \n",
      "1   25      0     285     1          1       44564.0         0         0   \n",
      "2   42      1      95     0          0       30796.0         0         0   \n",
      "3   39      0     229     0          1       35669.0         0         0   \n",
      "4   42      1     114     0          1       32039.0         0         0   \n",
      "\n",
      "   region_2  region_3  ...  region_51  region_52  dl_0  dl_1  \\\n",
      "0         0         0  ...          0          0     0     1   \n",
      "1         0         0  ...          0          0     0     1   \n",
      "2         0         0  ...          0          0     0     1   \n",
      "3         0         0  ...          0          0     0     1   \n",
      "4         0         0  ...          0          0     0     1   \n",
      "\n",
      "   has_v_insurance_0  has_v_insurance_1  cs_rep_122  cs_rep_151  cs_rep_154  \\\n",
      "0                  1                  0           0           0           0   \n",
      "1                  1                  0           0           0           1   \n",
      "2                  0                  1           1           0           0   \n",
      "3                  1                  0           0           0           0   \n",
      "4                  1                  0           1           0           0   \n",
      "\n",
      "   cs_rep_163  \n",
      "0           1  \n",
      "1           0  \n",
      "2           0  \n",
      "3           1  \n",
      "4           0  \n",
      "\n",
      "[5 rows x 67 columns]\n"
     ]
    }
   ],
   "source": [
    "# Print first few rows after preprocessing\n",
    "print(\"First few rows of X_train:\")\n",
    "print(X_train.head())\n",
    "\n",
    "print(\"First few rows of sample_data:\")\n",
    "print(sample_data.head())\n"
   ]
  },
  {
   "cell_type": "code",
   "execution_count": 30,
   "id": "99cd728d",
   "metadata": {},
   "outputs": [],
   "source": [
    "# Ensure consistent encoding for categorical columns in sample_data\n",
    "for column in ['gender', 'v_age', 'v_accident']:\n",
    "    sample_data[column] = pd.Categorical(sample_data[column], categories=X_train[column].astype('category').cat.categories, ordered=True)\n"
   ]
  },
  {
   "cell_type": "code",
   "execution_count": 31,
   "id": "67f1a4bf",
   "metadata": {},
   "outputs": [
    {
     "name": "stdout",
     "output_type": "stream",
     "text": [
      "Number of features in X_train: 67\n",
      "Number of features in sample_data before dropping: 67\n",
      "Number of features in sample_data after dropping: 67\n"
     ]
    }
   ],
   "source": [
    "# Ensure consistent encoding for categorical columns in sample_data\n",
    "for column in ['gender', 'v_age', 'v_accident']:\n",
    "    sample_data[column] = pd.Categorical(sample_data[column], categories=X_train[column].astype('category').cat.categories, ordered=True)\n",
    "\n",
    "print(\"Number of features in X_train:\", X_train.shape[1])\n",
    "print(\"Number of features in sample_data before dropping:\", sample_data.shape[1])\n",
    "\n",
    "# Drop additional columns\n",
    "sample_data = sample_data[X_train.columns]\n",
    "\n",
    "print(\"Number of features in sample_data after dropping:\", sample_data.shape[1])\n"
   ]
  },
  {
   "cell_type": "code",
   "execution_count": 32,
   "id": "6b4232f0",
   "metadata": {},
   "outputs": [
    {
     "name": "stdout",
     "output_type": "stream",
     "text": [
      "Columns in X_train: Index(['age', 'gender', 'tenure', 'v_age', 'v_accident', 'v_prem_quote',\n",
      "       'region_0', 'region_1', 'region_2', 'region_3', 'region_4', 'region_5',\n",
      "       'region_6', 'region_7', 'region_8', 'region_9', 'region_10',\n",
      "       'region_11', 'region_12', 'region_13', 'region_14', 'region_15',\n",
      "       'region_16', 'region_17', 'region_18', 'region_19', 'region_20',\n",
      "       'region_21', 'region_22', 'region_23', 'region_24', 'region_25',\n",
      "       'region_26', 'region_27', 'region_28', 'region_29', 'region_30',\n",
      "       'region_31', 'region_32', 'region_33', 'region_34', 'region_35',\n",
      "       'region_36', 'region_37', 'region_38', 'region_39', 'region_40',\n",
      "       'region_41', 'region_42', 'region_43', 'region_44', 'region_45',\n",
      "       'region_46', 'region_47', 'region_48', 'region_49', 'region_50',\n",
      "       'region_51', 'region_52', 'dl_0', 'dl_1', 'has_v_insurance_0',\n",
      "       'has_v_insurance_1', 'cs_rep_122', 'cs_rep_151', 'cs_rep_154',\n",
      "       'cs_rep_163'],\n",
      "      dtype='object')\n",
      "Columns in sample_data: Index(['age', 'gender', 'tenure', 'v_age', 'v_accident', 'v_prem_quote',\n",
      "       'region_0', 'region_1', 'region_2', 'region_3', 'region_4', 'region_5',\n",
      "       'region_6', 'region_7', 'region_8', 'region_9', 'region_10',\n",
      "       'region_11', 'region_12', 'region_13', 'region_14', 'region_15',\n",
      "       'region_16', 'region_17', 'region_18', 'region_19', 'region_20',\n",
      "       'region_21', 'region_22', 'region_23', 'region_24', 'region_25',\n",
      "       'region_26', 'region_27', 'region_28', 'region_29', 'region_30',\n",
      "       'region_31', 'region_32', 'region_33', 'region_34', 'region_35',\n",
      "       'region_36', 'region_37', 'region_38', 'region_39', 'region_40',\n",
      "       'region_41', 'region_42', 'region_43', 'region_44', 'region_45',\n",
      "       'region_46', 'region_47', 'region_48', 'region_49', 'region_50',\n",
      "       'region_51', 'region_52', 'dl_0', 'dl_1', 'has_v_insurance_0',\n",
      "       'has_v_insurance_1', 'cs_rep_122', 'cs_rep_151', 'cs_rep_154',\n",
      "       'cs_rep_163'],\n",
      "      dtype='object')\n"
     ]
    }
   ],
   "source": [
    "print(\"Columns in X_train:\", X_train.columns)\n",
    "print(\"Columns in sample_data:\", sample_data.columns)\n"
   ]
  },
  {
   "cell_type": "code",
   "execution_count": 33,
   "id": "23ec246a",
   "metadata": {},
   "outputs": [
    {
     "name": "stdout",
     "output_type": "stream",
     "text": [
      "Number of features in X_train: 67\n",
      "Number of features in sample_data before dropping: 67\n",
      "Number of features in sample_data after dropping: 67\n"
     ]
    }
   ],
   "source": [
    "print(\"Number of features in X_train:\", len(X_train.columns))\n",
    "print(\"Number of features in sample_data before dropping:\", len(sample_data.columns))\n",
    "\n",
    "# Drop unnecessary columns\n",
    "sample_data = sample_data[X_train.columns]\n",
    "\n",
    "print(\"Number of features in sample_data after dropping:\", len(sample_data.columns))\n"
   ]
  },
  {
   "cell_type": "code",
   "execution_count": 34,
   "id": "1435fc5f",
   "metadata": {},
   "outputs": [
    {
     "name": "stdout",
     "output_type": "stream",
     "text": [
      "Columns in X_train but not in sample_data: set()\n",
      "Columns in sample_data but not in X_train: set()\n"
     ]
    }
   ],
   "source": [
    "# Display the columns that are in X_train but not in sample_data\n",
    "missing_columns_in_sample = set(X_train.columns) - set(sample_data.columns)\n",
    "print(\"Columns in X_train but not in sample_data:\", missing_columns_in_sample)\n",
    "\n",
    "# Display the columns that are in sample_data but not in X_train\n",
    "extra_columns_in_sample = set(sample_data.columns) - set(X_train.columns)\n",
    "print(\"Columns in sample_data but not in X_train:\", extra_columns_in_sample)\n"
   ]
  },
  {
   "cell_type": "code",
   "execution_count": 35,
   "id": "2f67a214",
   "metadata": {},
   "outputs": [],
   "source": [
    "# Apply the trained model to the sample data to get probabilities and predictions\n",
    "sample_data['probability'] = rf_model.predict_proba(sample_data[X_train.columns])[:, 1]\n",
    "sample_data['classification'] = rf_model.predict(sample_data[X_train.columns])\n"
   ]
  },
  {
   "cell_type": "code",
   "execution_count": 36,
   "id": "fa6fbeb9",
   "metadata": {},
   "outputs": [
    {
     "ename": "KeyError",
     "evalue": "\"['id_new'] not in index\"",
     "output_type": "error",
     "traceback": [
      "\u001b[1;31m---------------------------------------------------------------------------\u001b[0m",
      "\u001b[1;31mKeyError\u001b[0m                                  Traceback (most recent call last)",
      "\u001b[1;32m<ipython-input-36-0a1c7e48bc57>\u001b[0m in \u001b[0;36m<module>\u001b[1;34m\u001b[0m\n\u001b[0;32m      1\u001b[0m \u001b[1;31m# Export the Scored data frame as a .CSV file\u001b[0m\u001b[1;33m\u001b[0m\u001b[1;33m\u001b[0m\u001b[0m\n\u001b[0;32m      2\u001b[0m \u001b[0mscored_data_path\u001b[0m \u001b[1;33m=\u001b[0m \u001b[1;34m\"C:/Users/shrin/OneDrive/Desktop/Sem 03/Business Frameworks/Final Project/scored_data.csv\"\u001b[0m\u001b[1;33m\u001b[0m\u001b[0m\n\u001b[1;32m----> 3\u001b[1;33m \u001b[0msample_data\u001b[0m\u001b[1;33m[\u001b[0m\u001b[1;33m[\u001b[0m\u001b[1;34m'id_new'\u001b[0m\u001b[1;33m,\u001b[0m \u001b[1;34m'probability'\u001b[0m\u001b[1;33m,\u001b[0m \u001b[1;34m'classification'\u001b[0m\u001b[1;33m]\u001b[0m\u001b[1;33m]\u001b[0m\u001b[1;33m.\u001b[0m\u001b[0mto_csv\u001b[0m\u001b[1;33m(\u001b[0m\u001b[0mscored_data_path\u001b[0m\u001b[1;33m,\u001b[0m \u001b[0mindex\u001b[0m\u001b[1;33m=\u001b[0m\u001b[1;32mFalse\u001b[0m\u001b[1;33m)\u001b[0m\u001b[1;33m\u001b[0m\u001b[0m\n\u001b[0m",
      "\u001b[1;32mc:\\users\\shrin\\appdata\\local\\programs\\python\\python36\\lib\\site-packages\\pandas\\core\\frame.py\u001b[0m in \u001b[0;36m__getitem__\u001b[1;34m(self, key)\u001b[0m\n\u001b[0;32m   2910\u001b[0m             \u001b[1;32mif\u001b[0m \u001b[0mis_iterator\u001b[0m\u001b[1;33m(\u001b[0m\u001b[0mkey\u001b[0m\u001b[1;33m)\u001b[0m\u001b[1;33m:\u001b[0m\u001b[1;33m\u001b[0m\u001b[0m\n\u001b[0;32m   2911\u001b[0m                 \u001b[0mkey\u001b[0m \u001b[1;33m=\u001b[0m \u001b[0mlist\u001b[0m\u001b[1;33m(\u001b[0m\u001b[0mkey\u001b[0m\u001b[1;33m)\u001b[0m\u001b[1;33m\u001b[0m\u001b[0m\n\u001b[1;32m-> 2912\u001b[1;33m             \u001b[0mindexer\u001b[0m \u001b[1;33m=\u001b[0m \u001b[0mself\u001b[0m\u001b[1;33m.\u001b[0m\u001b[0mloc\u001b[0m\u001b[1;33m.\u001b[0m\u001b[0m_get_listlike_indexer\u001b[0m\u001b[1;33m(\u001b[0m\u001b[0mkey\u001b[0m\u001b[1;33m,\u001b[0m \u001b[0maxis\u001b[0m\u001b[1;33m=\u001b[0m\u001b[1;36m1\u001b[0m\u001b[1;33m,\u001b[0m \u001b[0mraise_missing\u001b[0m\u001b[1;33m=\u001b[0m\u001b[1;32mTrue\u001b[0m\u001b[1;33m)\u001b[0m\u001b[1;33m[\u001b[0m\u001b[1;36m1\u001b[0m\u001b[1;33m]\u001b[0m\u001b[1;33m\u001b[0m\u001b[0m\n\u001b[0m\u001b[0;32m   2913\u001b[0m \u001b[1;33m\u001b[0m\u001b[0m\n\u001b[0;32m   2914\u001b[0m         \u001b[1;31m# take() does not accept boolean indexers\u001b[0m\u001b[1;33m\u001b[0m\u001b[1;33m\u001b[0m\u001b[0m\n",
      "\u001b[1;32mc:\\users\\shrin\\appdata\\local\\programs\\python\\python36\\lib\\site-packages\\pandas\\core\\indexing.py\u001b[0m in \u001b[0;36m_get_listlike_indexer\u001b[1;34m(self, key, axis, raise_missing)\u001b[0m\n\u001b[0;32m   1252\u001b[0m             \u001b[0mkeyarr\u001b[0m\u001b[1;33m,\u001b[0m \u001b[0mindexer\u001b[0m\u001b[1;33m,\u001b[0m \u001b[0mnew_indexer\u001b[0m \u001b[1;33m=\u001b[0m \u001b[0max\u001b[0m\u001b[1;33m.\u001b[0m\u001b[0m_reindex_non_unique\u001b[0m\u001b[1;33m(\u001b[0m\u001b[0mkeyarr\u001b[0m\u001b[1;33m)\u001b[0m\u001b[1;33m\u001b[0m\u001b[0m\n\u001b[0;32m   1253\u001b[0m \u001b[1;33m\u001b[0m\u001b[0m\n\u001b[1;32m-> 1254\u001b[1;33m         \u001b[0mself\u001b[0m\u001b[1;33m.\u001b[0m\u001b[0m_validate_read_indexer\u001b[0m\u001b[1;33m(\u001b[0m\u001b[0mkeyarr\u001b[0m\u001b[1;33m,\u001b[0m \u001b[0mindexer\u001b[0m\u001b[1;33m,\u001b[0m \u001b[0maxis\u001b[0m\u001b[1;33m,\u001b[0m \u001b[0mraise_missing\u001b[0m\u001b[1;33m=\u001b[0m\u001b[0mraise_missing\u001b[0m\u001b[1;33m)\u001b[0m\u001b[1;33m\u001b[0m\u001b[0m\n\u001b[0m\u001b[0;32m   1255\u001b[0m         \u001b[1;32mreturn\u001b[0m \u001b[0mkeyarr\u001b[0m\u001b[1;33m,\u001b[0m \u001b[0mindexer\u001b[0m\u001b[1;33m\u001b[0m\u001b[0m\n\u001b[0;32m   1256\u001b[0m \u001b[1;33m\u001b[0m\u001b[0m\n",
      "\u001b[1;32mc:\\users\\shrin\\appdata\\local\\programs\\python\\python36\\lib\\site-packages\\pandas\\core\\indexing.py\u001b[0m in \u001b[0;36m_validate_read_indexer\u001b[1;34m(self, key, indexer, axis, raise_missing)\u001b[0m\n\u001b[0;32m   1302\u001b[0m             \u001b[1;32mif\u001b[0m \u001b[0mraise_missing\u001b[0m\u001b[1;33m:\u001b[0m\u001b[1;33m\u001b[0m\u001b[0m\n\u001b[0;32m   1303\u001b[0m                 \u001b[0mnot_found\u001b[0m \u001b[1;33m=\u001b[0m \u001b[0mlist\u001b[0m\u001b[1;33m(\u001b[0m\u001b[0mset\u001b[0m\u001b[1;33m(\u001b[0m\u001b[0mkey\u001b[0m\u001b[1;33m)\u001b[0m \u001b[1;33m-\u001b[0m \u001b[0mset\u001b[0m\u001b[1;33m(\u001b[0m\u001b[0max\u001b[0m\u001b[1;33m)\u001b[0m\u001b[1;33m)\u001b[0m\u001b[1;33m\u001b[0m\u001b[0m\n\u001b[1;32m-> 1304\u001b[1;33m                 \u001b[1;32mraise\u001b[0m \u001b[0mKeyError\u001b[0m\u001b[1;33m(\u001b[0m\u001b[1;34mf\"{not_found} not in index\"\u001b[0m\u001b[1;33m)\u001b[0m\u001b[1;33m\u001b[0m\u001b[0m\n\u001b[0m\u001b[0;32m   1305\u001b[0m \u001b[1;33m\u001b[0m\u001b[0m\n\u001b[0;32m   1306\u001b[0m             \u001b[1;31m# we skip the warning on Categorical\u001b[0m\u001b[1;33m\u001b[0m\u001b[1;33m\u001b[0m\u001b[0m\n",
      "\u001b[1;31mKeyError\u001b[0m: \"['id_new'] not in index\""
     ]
    }
   ],
   "source": [
    "# Export the Scored data frame as a .CSV file\n",
    "scored_data_path = \"C:/Users/shrin/OneDrive/Desktop/Sem 03/Business Frameworks/Final Project/scored_data.csv\"\n",
    "sample_data[['id_new', 'probability', 'classification']].to_csv(scored_data_path, index=False)\n"
   ]
  },
  {
   "cell_type": "code",
   "execution_count": null,
   "id": "c796e112",
   "metadata": {},
   "outputs": [],
   "source": []
  }
 ],
 "metadata": {
  "kernelspec": {
   "display_name": "Python 3 (ipykernel)",
   "language": "python",
   "name": "python3"
  },
  "language_info": {
   "codemirror_mode": {
    "name": "ipython",
    "version": 3
   },
   "file_extension": ".py",
   "mimetype": "text/x-python",
   "name": "python",
   "nbconvert_exporter": "python",
   "pygments_lexer": "ipython3",
   "version": "3.11.5"
  }
 },
 "nbformat": 4,
 "nbformat_minor": 5
}
